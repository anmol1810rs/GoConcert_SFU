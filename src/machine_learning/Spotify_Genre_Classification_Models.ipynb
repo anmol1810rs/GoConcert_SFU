{
  "nbformat": 4,
  "nbformat_minor": 0,
  "metadata": {
    "colab": {
      "provenance": []
    },
    "kernelspec": {
      "name": "python3",
      "display_name": "Python 3"
    },
    "language_info": {
      "name": "python"
    },
    "gpuClass": "standard",
    "accelerator": "GPU"
  },
  "cells": [
    {
      "cell_type": "markdown",
      "source": [
        "# **GO CONCERT (SPOTIFY -> TICKETMASTER)**\n",
        "# **GENRE CLASSIFICATION (MACHINE LEARNING)**"
      ],
      "metadata": {
        "id": "NqyrfRnZ3gyS"
      }
    },
    {
      "cell_type": "code",
      "source": [
        "from google.colab import drive\n",
        "drive.mount('/content/drive', force_remount= True)"
      ],
      "metadata": {
        "id": "Lfs8xfS70orx",
        "colab": {
          "base_uri": "https://localhost:8080/"
        },
        "outputId": "214908af-648a-47a6-960d-83836cb345ea"
      },
      "execution_count": 4,
      "outputs": [
        {
          "output_type": "stream",
          "name": "stdout",
          "text": [
            "Mounted at /content/drive\n"
          ]
        }
      ]
    },
    {
      "cell_type": "code",
      "source": [
        "import numpy as np\n",
        "import pandas as pd\n",
        "import matplotlib.pyplot as plt\n",
        "import pickle"
      ],
      "metadata": {
        "id": "b2xZ-vl9OkGt"
      },
      "execution_count": 5,
      "outputs": []
    },
    {
      "cell_type": "code",
      "source": [
        "#reading Data\n",
        "spotify_df = pd.read_csv('/content/drive/MyDrive/Spotify_BDP/Main_Data.csv')"
      ],
      "metadata": {
        "id": "RhJf22FJOGVi"
      },
      "execution_count": 6,
      "outputs": []
    },
    {
      "cell_type": "code",
      "source": [
        "spotify_df.head()"
      ],
      "metadata": {
        "colab": {
          "base_uri": "https://localhost:8080/",
          "height": 508
        },
        "id": "QJfWYAaVigm6",
        "outputId": "705d8d26-5120-4e84-df79-2a7347e4bfcd"
      },
      "execution_count": 7,
      "outputs": [
        {
          "output_type": "execute_result",
          "data": {
            "text/plain": [
              "                       id                         name  \\\n",
              "0  000C3ZY8325A4yktxnnwCl   when the sun is a stranger   \n",
              "1  000GxVUl2QoBm5gh63tbpF  chrono boost - original mix   \n",
              "2  0014PFmFeg9ArijfRppSPa         way down deep (live)   \n",
              "3  00174RHq41L2LkeLdE0eyj                    confusion   \n",
              "4  001COKlREAcM9pTCJp2YeL            beautiful slumber   \n",
              "\n",
              "                                       artist_id                artists  \\\n",
              "0                         4Uqu4U6hhDMODyzSCtNDzG                 poemme   \n",
              "1  2PhITKrYcCL00gmtYGJcIe,2IVF45YhNY3Ic1FscjCMWO  gimmah,midnight smack   \n",
              "2                         6IqRTh75wzqgbhpwx7pgyV          david grissom   \n",
              "3                         1z7SXnaVwt0Fnncfrz94SG                 colder   \n",
              "4                         4H4sW5MC8ErjBcUxSBMFG4   cosmic sleep captain   \n",
              "\n",
              "            artist_genre   album_type                album_id  \\\n",
              "0  ambient worship,drift        album  3ypgq6ExA3JN8s2biuRK5e   \n",
              "1                    NaN  compilation  6akGDSdZANHIZ0bAUEcsit   \n",
              "2                    NaN        album  2TVsae5VW9X2dAtyJMnR6j   \n",
              "3               coldwave        album  4bTWH5P6CykNnANLOAzKCR   \n",
              "4                    NaN        album  634BMVeTPoGYc2CzDwnrsE   \n",
              "\n",
              "                                          album_name  album_release_date  \\\n",
              "0                                           soft ice              2017.0   \n",
              "1                     straight up glitch hop! vol. 3              2013.0   \n",
              "2                                how it feels to fly              2014.0   \n",
              "3                                              again              2003.0   \n",
              "4  deep calming sleep: celestial music for restfu...              2021.0   \n",
              "\n",
              "   duration_ms  ...  key  loudness  mode  speechiness  acousticness  \\\n",
              "0       390560  ...    0   -33.246     1       0.0469      0.952000   \n",
              "1       269640  ...    6    -6.226     0       0.0863      0.000013   \n",
              "2       407520  ...    0    -6.223     1       0.0428      0.087400   \n",
              "3       296533  ...   10    -6.718     0       0.0547      0.067600   \n",
              "4       111059  ...    7   -24.727     1       0.1040      0.951000   \n",
              "\n",
              "   instrumentalness  liveness  valence    tempo  time_signature  \n",
              "0             0.776     0.121   0.0835  134.542             3.0  \n",
              "1             0.060     0.136   0.3570   90.034             4.0  \n",
              "2             0.397     0.969   0.6520   82.592             4.0  \n",
              "3             0.778     0.339   0.9600  100.023             4.0  \n",
              "4             0.853     0.101   0.0419   72.559             1.0  \n",
              "\n",
              "[5 rows x 23 columns]"
            ],
            "text/html": [
              "\n",
              "  <div id=\"df-afbff177-a20e-4f5b-8293-9c6042eb8b58\">\n",
              "    <div class=\"colab-df-container\">\n",
              "      <div>\n",
              "<style scoped>\n",
              "    .dataframe tbody tr th:only-of-type {\n",
              "        vertical-align: middle;\n",
              "    }\n",
              "\n",
              "    .dataframe tbody tr th {\n",
              "        vertical-align: top;\n",
              "    }\n",
              "\n",
              "    .dataframe thead th {\n",
              "        text-align: right;\n",
              "    }\n",
              "</style>\n",
              "<table border=\"1\" class=\"dataframe\">\n",
              "  <thead>\n",
              "    <tr style=\"text-align: right;\">\n",
              "      <th></th>\n",
              "      <th>id</th>\n",
              "      <th>name</th>\n",
              "      <th>artist_id</th>\n",
              "      <th>artists</th>\n",
              "      <th>artist_genre</th>\n",
              "      <th>album_type</th>\n",
              "      <th>album_id</th>\n",
              "      <th>album_name</th>\n",
              "      <th>album_release_date</th>\n",
              "      <th>duration_ms</th>\n",
              "      <th>...</th>\n",
              "      <th>key</th>\n",
              "      <th>loudness</th>\n",
              "      <th>mode</th>\n",
              "      <th>speechiness</th>\n",
              "      <th>acousticness</th>\n",
              "      <th>instrumentalness</th>\n",
              "      <th>liveness</th>\n",
              "      <th>valence</th>\n",
              "      <th>tempo</th>\n",
              "      <th>time_signature</th>\n",
              "    </tr>\n",
              "  </thead>\n",
              "  <tbody>\n",
              "    <tr>\n",
              "      <th>0</th>\n",
              "      <td>000C3ZY8325A4yktxnnwCl</td>\n",
              "      <td>when the sun is a stranger</td>\n",
              "      <td>4Uqu4U6hhDMODyzSCtNDzG</td>\n",
              "      <td>poemme</td>\n",
              "      <td>ambient worship,drift</td>\n",
              "      <td>album</td>\n",
              "      <td>3ypgq6ExA3JN8s2biuRK5e</td>\n",
              "      <td>soft ice</td>\n",
              "      <td>2017.0</td>\n",
              "      <td>390560</td>\n",
              "      <td>...</td>\n",
              "      <td>0</td>\n",
              "      <td>-33.246</td>\n",
              "      <td>1</td>\n",
              "      <td>0.0469</td>\n",
              "      <td>0.952000</td>\n",
              "      <td>0.776</td>\n",
              "      <td>0.121</td>\n",
              "      <td>0.0835</td>\n",
              "      <td>134.542</td>\n",
              "      <td>3.0</td>\n",
              "    </tr>\n",
              "    <tr>\n",
              "      <th>1</th>\n",
              "      <td>000GxVUl2QoBm5gh63tbpF</td>\n",
              "      <td>chrono boost - original mix</td>\n",
              "      <td>2PhITKrYcCL00gmtYGJcIe,2IVF45YhNY3Ic1FscjCMWO</td>\n",
              "      <td>gimmah,midnight smack</td>\n",
              "      <td>NaN</td>\n",
              "      <td>compilation</td>\n",
              "      <td>6akGDSdZANHIZ0bAUEcsit</td>\n",
              "      <td>straight up glitch hop! vol. 3</td>\n",
              "      <td>2013.0</td>\n",
              "      <td>269640</td>\n",
              "      <td>...</td>\n",
              "      <td>6</td>\n",
              "      <td>-6.226</td>\n",
              "      <td>0</td>\n",
              "      <td>0.0863</td>\n",
              "      <td>0.000013</td>\n",
              "      <td>0.060</td>\n",
              "      <td>0.136</td>\n",
              "      <td>0.3570</td>\n",
              "      <td>90.034</td>\n",
              "      <td>4.0</td>\n",
              "    </tr>\n",
              "    <tr>\n",
              "      <th>2</th>\n",
              "      <td>0014PFmFeg9ArijfRppSPa</td>\n",
              "      <td>way down deep (live)</td>\n",
              "      <td>6IqRTh75wzqgbhpwx7pgyV</td>\n",
              "      <td>david grissom</td>\n",
              "      <td>NaN</td>\n",
              "      <td>album</td>\n",
              "      <td>2TVsae5VW9X2dAtyJMnR6j</td>\n",
              "      <td>how it feels to fly</td>\n",
              "      <td>2014.0</td>\n",
              "      <td>407520</td>\n",
              "      <td>...</td>\n",
              "      <td>0</td>\n",
              "      <td>-6.223</td>\n",
              "      <td>1</td>\n",
              "      <td>0.0428</td>\n",
              "      <td>0.087400</td>\n",
              "      <td>0.397</td>\n",
              "      <td>0.969</td>\n",
              "      <td>0.6520</td>\n",
              "      <td>82.592</td>\n",
              "      <td>4.0</td>\n",
              "    </tr>\n",
              "    <tr>\n",
              "      <th>3</th>\n",
              "      <td>00174RHq41L2LkeLdE0eyj</td>\n",
              "      <td>confusion</td>\n",
              "      <td>1z7SXnaVwt0Fnncfrz94SG</td>\n",
              "      <td>colder</td>\n",
              "      <td>coldwave</td>\n",
              "      <td>album</td>\n",
              "      <td>4bTWH5P6CykNnANLOAzKCR</td>\n",
              "      <td>again</td>\n",
              "      <td>2003.0</td>\n",
              "      <td>296533</td>\n",
              "      <td>...</td>\n",
              "      <td>10</td>\n",
              "      <td>-6.718</td>\n",
              "      <td>0</td>\n",
              "      <td>0.0547</td>\n",
              "      <td>0.067600</td>\n",
              "      <td>0.778</td>\n",
              "      <td>0.339</td>\n",
              "      <td>0.9600</td>\n",
              "      <td>100.023</td>\n",
              "      <td>4.0</td>\n",
              "    </tr>\n",
              "    <tr>\n",
              "      <th>4</th>\n",
              "      <td>001COKlREAcM9pTCJp2YeL</td>\n",
              "      <td>beautiful slumber</td>\n",
              "      <td>4H4sW5MC8ErjBcUxSBMFG4</td>\n",
              "      <td>cosmic sleep captain</td>\n",
              "      <td>NaN</td>\n",
              "      <td>album</td>\n",
              "      <td>634BMVeTPoGYc2CzDwnrsE</td>\n",
              "      <td>deep calming sleep: celestial music for restfu...</td>\n",
              "      <td>2021.0</td>\n",
              "      <td>111059</td>\n",
              "      <td>...</td>\n",
              "      <td>7</td>\n",
              "      <td>-24.727</td>\n",
              "      <td>1</td>\n",
              "      <td>0.1040</td>\n",
              "      <td>0.951000</td>\n",
              "      <td>0.853</td>\n",
              "      <td>0.101</td>\n",
              "      <td>0.0419</td>\n",
              "      <td>72.559</td>\n",
              "      <td>1.0</td>\n",
              "    </tr>\n",
              "  </tbody>\n",
              "</table>\n",
              "<p>5 rows × 23 columns</p>\n",
              "</div>\n",
              "      <button class=\"colab-df-convert\" onclick=\"convertToInteractive('df-afbff177-a20e-4f5b-8293-9c6042eb8b58')\"\n",
              "              title=\"Convert this dataframe to an interactive table.\"\n",
              "              style=\"display:none;\">\n",
              "        \n",
              "  <svg xmlns=\"http://www.w3.org/2000/svg\" height=\"24px\"viewBox=\"0 0 24 24\"\n",
              "       width=\"24px\">\n",
              "    <path d=\"M0 0h24v24H0V0z\" fill=\"none\"/>\n",
              "    <path d=\"M18.56 5.44l.94 2.06.94-2.06 2.06-.94-2.06-.94-.94-2.06-.94 2.06-2.06.94zm-11 1L8.5 8.5l.94-2.06 2.06-.94-2.06-.94L8.5 2.5l-.94 2.06-2.06.94zm10 10l.94 2.06.94-2.06 2.06-.94-2.06-.94-.94-2.06-.94 2.06-2.06.94z\"/><path d=\"M17.41 7.96l-1.37-1.37c-.4-.4-.92-.59-1.43-.59-.52 0-1.04.2-1.43.59L10.3 9.45l-7.72 7.72c-.78.78-.78 2.05 0 2.83L4 21.41c.39.39.9.59 1.41.59.51 0 1.02-.2 1.41-.59l7.78-7.78 2.81-2.81c.8-.78.8-2.07 0-2.86zM5.41 20L4 18.59l7.72-7.72 1.47 1.35L5.41 20z\"/>\n",
              "  </svg>\n",
              "      </button>\n",
              "      \n",
              "  <style>\n",
              "    .colab-df-container {\n",
              "      display:flex;\n",
              "      flex-wrap:wrap;\n",
              "      gap: 12px;\n",
              "    }\n",
              "\n",
              "    .colab-df-convert {\n",
              "      background-color: #E8F0FE;\n",
              "      border: none;\n",
              "      border-radius: 50%;\n",
              "      cursor: pointer;\n",
              "      display: none;\n",
              "      fill: #1967D2;\n",
              "      height: 32px;\n",
              "      padding: 0 0 0 0;\n",
              "      width: 32px;\n",
              "    }\n",
              "\n",
              "    .colab-df-convert:hover {\n",
              "      background-color: #E2EBFA;\n",
              "      box-shadow: 0px 1px 2px rgba(60, 64, 67, 0.3), 0px 1px 3px 1px rgba(60, 64, 67, 0.15);\n",
              "      fill: #174EA6;\n",
              "    }\n",
              "\n",
              "    [theme=dark] .colab-df-convert {\n",
              "      background-color: #3B4455;\n",
              "      fill: #D2E3FC;\n",
              "    }\n",
              "\n",
              "    [theme=dark] .colab-df-convert:hover {\n",
              "      background-color: #434B5C;\n",
              "      box-shadow: 0px 1px 3px 1px rgba(0, 0, 0, 0.15);\n",
              "      filter: drop-shadow(0px 1px 2px rgba(0, 0, 0, 0.3));\n",
              "      fill: #FFFFFF;\n",
              "    }\n",
              "  </style>\n",
              "\n",
              "      <script>\n",
              "        const buttonEl =\n",
              "          document.querySelector('#df-afbff177-a20e-4f5b-8293-9c6042eb8b58 button.colab-df-convert');\n",
              "        buttonEl.style.display =\n",
              "          google.colab.kernel.accessAllowed ? 'block' : 'none';\n",
              "\n",
              "        async function convertToInteractive(key) {\n",
              "          const element = document.querySelector('#df-afbff177-a20e-4f5b-8293-9c6042eb8b58');\n",
              "          const dataTable =\n",
              "            await google.colab.kernel.invokeFunction('convertToInteractive',\n",
              "                                                     [key], {});\n",
              "          if (!dataTable) return;\n",
              "\n",
              "          const docLinkHtml = 'Like what you see? Visit the ' +\n",
              "            '<a target=\"_blank\" href=https://colab.research.google.com/notebooks/data_table.ipynb>data table notebook</a>'\n",
              "            + ' to learn more about interactive tables.';\n",
              "          element.innerHTML = '';\n",
              "          dataTable['output_type'] = 'display_data';\n",
              "          await google.colab.output.renderOutput(dataTable, element);\n",
              "          const docLink = document.createElement('div');\n",
              "          docLink.innerHTML = docLinkHtml;\n",
              "          element.appendChild(docLink);\n",
              "        }\n",
              "      </script>\n",
              "    </div>\n",
              "  </div>\n",
              "  "
            ]
          },
          "metadata": {},
          "execution_count": 7
        }
      ]
    },
    {
      "cell_type": "code",
      "source": [
        "spotify_df = spotify_df.dropna(how='any')"
      ],
      "metadata": {
        "id": "KzAfcSbbQlFX"
      },
      "execution_count": 8,
      "outputs": []
    },
    {
      "cell_type": "code",
      "source": [
        "#NLP Code for Lemmatizing Genres as per Ticket Master Genre List\n",
        "import nltk\n",
        "from nltk.stem import WordNetLemmatizer\n",
        "from difflib import SequenceMatcher\n",
        "nltk.download('omw-1.4')\n",
        "import numpy as np\n",
        "import pandas as pd\n",
        "\n",
        "# download WordNet\n",
        "nltk.download('wordnet')\n",
        "\n",
        "# create a WordNet lemmatizer object\n",
        "lemmatizer = WordNetLemmatizer()\n",
        "\n",
        "# define the MGL\n",
        "tkm = [\n",
        "    'alternative',\n",
        "    'ballads',\n",
        "    'romantics',\n",
        "    'blues',\n",
        "    'bollywood',\n",
        "    'chanson francaise',\n",
        "    'children',\n",
        "    'classical',\n",
        "    'country',\n",
        "    'dance',\n",
        "    'electronic',\n",
        "    'folk',\n",
        "    'hip-hop',\n",
        "    'rap',\n",
        "    'holiday',\n",
        "    'jazz',\n",
        "    'latin',\n",
        "    'medieval/renaissance',\n",
        "    'metal',\n",
        "    'new age',\n",
        "    'other',\n",
        "    'pop',\n",
        "    'r&b',\n",
        "    'reggae',\n",
        "    'religious',\n",
        "    'rock',\n",
        "    'world'\n",
        "]\n",
        "\n",
        "# define a function to lemmatize words\n",
        "def lemmatize_word(word):\n",
        "    return lemmatizer.lemmatize(word, pos='n')\n",
        "\n",
        "def lemmatize_genre(genres_str):\n",
        "    # split the string on ',' and remove any leading/trailing spaces\n",
        "    genres_list = [genre.strip() for genre in genres_str.split(',')]\n",
        "    # convert to lowercase and remove spaces\n",
        "    genres_list = [genre.lower().replace(' ', '') for genre in genres_list]\n",
        "    # find the closest match in the MGL\n",
        "    closest_match = max(tkm, key=lambda x: sum([SequenceMatcher(None, genre, x).ratio() for genre in genres_list]))\n",
        "    # lemmatize the closest match and return it\n",
        "    return lemmatize_word(closest_match)"
      ],
      "metadata": {
        "colab": {
          "base_uri": "https://localhost:8080/"
        },
        "id": "ZUrQfP4wRDTl",
        "outputId": "12cb7daf-e1d4-4730-e446-50e47858ddda"
      },
      "execution_count": 9,
      "outputs": [
        {
          "output_type": "stream",
          "name": "stderr",
          "text": [
            "[nltk_data] Downloading package omw-1.4 to /root/nltk_data...\n",
            "[nltk_data] Downloading package wordnet to /root/nltk_data...\n"
          ]
        }
      ]
    },
    {
      "cell_type": "code",
      "source": [
        "def make_word_dict(s):\n",
        "    \"\"\"\n",
        "    This function takes a string and breaks each word at special characters and extracts all words from the list\n",
        "    to make a dictionary of all the existing words.\n",
        "    \"\"\"\n",
        "    word_dict = {}\n",
        "    special_chars = [', ', ',']\n",
        "    for char in special_chars:\n",
        "        s = s.replace(char, ' ')\n",
        "    words = s.split()\n",
        "    for word in words:\n",
        "        if word not in word_dict:\n",
        "            word_dict[word] = 1\n",
        "        else:\n",
        "            word_dict[word] += 1\n",
        "    return word_dict\n"
      ],
      "metadata": {
        "id": "PYBfaxP7OO81"
      },
      "execution_count": 10,
      "outputs": []
    },
    {
      "cell_type": "code",
      "source": [
        "def find_max_word(s, word_dict):\n",
        "    \"\"\"\n",
        "    This function takes a string and a word dictionary as input and returns the word in the string with the maximum count\n",
        "    in the dictionary.\n",
        "    \"\"\"\n",
        "    special_chars = [', ', ',']\n",
        "    for char in special_chars:\n",
        "        s = s.replace(char, ' ')\n",
        "    words = s.split()\n",
        "    max_word = None\n",
        "    max_count = 0\n",
        "    for word in words:\n",
        "        if word not in tkm:\n",
        "          max_word = 'other'\n",
        "          max_count = 0\n",
        "        elif word in word_dict and word_dict[word] > max_count:\n",
        "            max_word = word\n",
        "            max_count = word_dict[word]\n",
        "    return max_word"
      ],
      "metadata": {
        "id": "eli00bZkORjx"
      },
      "execution_count": 11,
      "outputs": []
    },
    {
      "cell_type": "code",
      "source": [
        "s = ''\n",
        "word_dict = make_word_dict(s)\n",
        "word_dict['other']=1\n",
        "\n",
        "# Apply the two functions on each column value of the 'artist_genre' column in the spotify_df dataframe\n",
        "for i, row in spotify_df.iterrows():\n",
        "    # Apply Function 1 to extract words from the current column value and add them to the word_dict\n",
        "    word_dict = {**word_dict, **make_word_dict(row['artist_genre'])}\n",
        "    # Apply Function 2 to assign a single word to the current column value based on the maximum count in the word_dict\n",
        "    max_word = find_max_word(row['artist_genre'], word_dict)\n",
        "    spotify_df.at[i, 'artist_genre'] = max_word\n"
      ],
      "metadata": {
        "id": "gli2Izk9OUKr"
      },
      "execution_count": 12,
      "outputs": []
    },
    {
      "cell_type": "code",
      "source": [
        "# Define a function to convert loudness values to a 0-100 scale\n",
        "def loudness_norm(loudness, min_l, max_l):\n",
        "  #Applying the min max scaler formula\n",
        "  l_min = min_l\n",
        "  l_max = max_l\n",
        "  return float((loudness - l_min)/(l_max - l_min))"
      ],
      "metadata": {
        "id": "yjTeJVecRZyJ"
      },
      "execution_count": 13,
      "outputs": []
    },
    {
      "cell_type": "code",
      "source": [
        "#Normalizing the tempo on a 0 to 1 scale\n",
        "# Define a function to convert loudness values to a 0-100 scale\n",
        "def tempo_norm(tempo, min_tempo, max_tempo):\n",
        "  #Applying the min max scaler formula\n",
        "  t_min = min_tempo\n",
        "  t_max = max_tempo\n",
        "  return float((tempo - t_min)/(t_max - t_min))"
      ],
      "metadata": {
        "id": "gkCl0UKURzhM"
      },
      "execution_count": 14,
      "outputs": []
    },
    {
      "cell_type": "code",
      "source": [
        "max_loudness = spotify_df['loudness'].max()\n",
        "min_loudness = spotify_df['loudness'].min()\n",
        "spotify_df['loudness'] = spotify_df['loudness'].apply(lambda x: loudness_norm(x, min_loudness, max_loudness))\n",
        "\n",
        "max_temp = spotify_df['tempo'].max()\n",
        "min_temp = spotify_df['tempo'].min()\n",
        "spotify_df[\"tempo\"] = spotify_df['tempo'].apply(lambda x: tempo_norm(x, min_temp, max_temp))\n",
        "\n",
        "# #Required Preprocessing for loudness, NLP Genre lemmatization\n",
        "# spotify_df['genre'] = spotify_df['artist_genre'].apply(lambda x: lemmatize_genre(x))"
      ],
      "metadata": {
        "id": "ASLzk0WlR1dp"
      },
      "execution_count": 15,
      "outputs": []
    },
    {
      "cell_type": "code",
      "source": [
        "counts = spotify_df['artist_genre'].value_counts()\n",
        "print(counts)"
      ],
      "metadata": {
        "colab": {
          "base_uri": "https://localhost:8080/"
        },
        "id": "lx0jZw_iR9BB",
        "outputId": "d02bae2f-df5a-4ba2-a9b6-02ab9594b687"
      },
      "execution_count": 16,
      "outputs": [
        {
          "output_type": "stream",
          "name": "stdout",
          "text": [
            "other          372827\n",
            "rock            48453\n",
            "pop             38890\n",
            "metal           24844\n",
            "jazz            17274\n",
            "rap             13730\n",
            "country          7621\n",
            "blues            6637\n",
            "folk             4926\n",
            "r&b              3455\n",
            "electronic       3167\n",
            "bollywood        3138\n",
            "reggae           2613\n",
            "dance            1930\n",
            "alternative      1741\n",
            "classical         772\n",
            "world             522\n",
            "latin             277\n",
            "Name: artist_genre, dtype: int64\n"
          ]
        }
      ]
    },
    {
      "cell_type": "code",
      "source": [
        "spotify_df = spotify_df[spotify_df['artist_genre'] != 'other']\n",
        "spotify_df['genre'] = spotify_df['artist_genre']"
      ],
      "metadata": {
        "id": "c9Wd8390a7jk",
        "colab": {
          "base_uri": "https://localhost:8080/"
        },
        "outputId": "c54a9746-b0e4-4504-ae99-f54f4fe9a0e0"
      },
      "execution_count": 17,
      "outputs": [
        {
          "output_type": "stream",
          "name": "stderr",
          "text": [
            "<ipython-input-17-3bd53045ef14>:2: SettingWithCopyWarning: \n",
            "A value is trying to be set on a copy of a slice from a DataFrame.\n",
            "Try using .loc[row_indexer,col_indexer] = value instead\n",
            "\n",
            "See the caveats in the documentation: https://pandas.pydata.org/pandas-docs/stable/user_guide/indexing.html#returning-a-view-versus-a-copy\n",
            "  spotify_df['genre'] = spotify_df['artist_genre']\n"
          ]
        }
      ]
    },
    {
      "cell_type": "code",
      "source": [
        "#Label Encoding the genre feature for classification purposes\n",
        "from sklearn.preprocessing import LabelEncoder\n",
        "labelencoder = LabelEncoder()\n",
        "\n",
        "y_le = spotify_df['genre']\n",
        "spotify_df['genre'] = labelencoder.fit_transform(spotify_df['genre'])\n",
        "label_map = dict(zip(y_le, spotify_df['genre']))\n",
        "print(label_map)"
      ],
      "metadata": {
        "colab": {
          "base_uri": "https://localhost:8080/"
        },
        "id": "6twOewCYSHWf",
        "outputId": "40d079e3-ab2f-4879-992e-30933168c617"
      },
      "execution_count": 18,
      "outputs": [
        {
          "output_type": "stream",
          "name": "stdout",
          "text": [
            "{'rock': 15, 'country': 4, 'bollywood': 2, 'classical': 3, 'jazz': 8, 'pop': 11, 'metal': 10, 'rap': 13, 'dance': 5, 'blues': 1, 'electronic': 6, 'folk': 7, 'r&b': 12, 'alternative': 0, 'reggae': 14, 'world': 16, 'latin': 9}\n"
          ]
        }
      ]
    },
    {
      "cell_type": "code",
      "source": [
        "#Selecting the Input and the Output Features before Classification\n",
        "X = spotify_df[[\"acousticness\", \"danceability\", \"energy\", \"instrumentalness\", \"mode\", \"key\", \"liveness\", \"loudness\", \"speechiness\", \"tempo\", \"valence\"]]\n",
        "Y = spotify_df[\"genre\"]"
      ],
      "metadata": {
        "id": "9ii1aNDTTwtf"
      },
      "execution_count": 19,
      "outputs": []
    },
    {
      "cell_type": "code",
      "source": [
        "from sklearn.model_selection import train_test_split\n",
        "X_train, X_test, y_train, y_test = train_test_split(X, Y, test_size=0.20, random_state=42)"
      ],
      "metadata": {
        "id": "Du_ChlzRT1xa"
      },
      "execution_count": 20,
      "outputs": []
    },
    {
      "cell_type": "markdown",
      "source": [
        "# **KNN Model**"
      ],
      "metadata": {
        "id": "RguEip2T3IGB"
      }
    },
    {
      "cell_type": "code",
      "source": [
        "from sklearn.neighbors import KNeighborsClassifier\n",
        "knn = KNeighborsClassifier(n_neighbors=100)\n",
        "knn.fit(X_train, y_train)\n",
        "\n",
        "y_pred = knn.predict(X_test)\n",
        "\n",
        "from sklearn.metrics import classification_report, confusion_matrix, accuracy_score\n",
        "print(confusion_matrix(y_test,y_pred))\n",
        "print(classification_report(y_test, y_pred))"
      ],
      "metadata": {
        "id": "ngonru_kT2W6",
        "colab": {
          "base_uri": "https://localhost:8080/"
        },
        "outputId": "c6c55dae-b847-4763-985b-86589a16b882"
      },
      "execution_count": 21,
      "outputs": [
        {
          "output_type": "stream",
          "name": "stdout",
          "text": [
            "[[   0    0    0    0    0    0    3    0   16    0   46  101    0   13\n",
            "     0  138    0]\n",
            " [   0    9    0    0    1    0    0    2  106    0   45  417    0    4\n",
            "     0  682    0]\n",
            " [   0    1    2    0    1    0    0    3   20    0    1  434    0   10\n",
            "     0  163    0]\n",
            " [   0    0    0   10    0    0    0   25   79    0    3   17    0    0\n",
            "     0   14    0]\n",
            " [   0    7    0    0   12    0    0    1   23    0    9  653    0    0\n",
            "     0  813    0]\n",
            " [   0    0    0    0    0    0    5    1   21    0   43  217    0   16\n",
            "     0   99    0]\n",
            " [   0    0    0    2    0    0   77   16  168    0  141   83    0    9\n",
            "     0  150    0]\n",
            " [   0    3    0    7    3    0    7  110  236    0   17  337    0    3\n",
            "     0  255    0]\n",
            " [   0    1    0    6    3    0   19   72 1916    0   53  783    0   58\n",
            "     0  509    0]\n",
            " [   0    0    0    0    0    0    1    0   11    0    0   21    0    0\n",
            "     0   17    0]\n",
            " [   0    0    0    0    0    0    6   15   61    0 3416  175    0    4\n",
            "     0 1379    0]\n",
            " [   0    6    1    1   10    0   20   50  328    0  255 4447    0  212\n",
            "     1 2493    0]\n",
            " [   0    1    0    0    0    0    2    1   22    0    3  508    0   34\n",
            "     0  106    0]\n",
            " [   0    0    0    1    0    0   10    0   64    0   60 1305    0  988\n",
            "     1  361    0]\n",
            " [   0    0    0    0    0    0    2    0   24    0    6  285    0   40\n",
            "     3  137    0]\n",
            " [   0    2    0    1    4    0   11   54  347    0 1153 1898    0   32\n",
            "     0 6150    0]\n",
            " [   0    0    0    0    0    0    1    6   46    0    3   38    0    2\n",
            "     0   26    0]]\n",
            "              precision    recall  f1-score   support\n",
            "\n",
            "           0       0.00      0.00      0.00       317\n",
            "           1       0.30      0.01      0.01      1266\n",
            "           2       0.67      0.00      0.01       635\n",
            "           3       0.36      0.07      0.11       148\n",
            "           4       0.35      0.01      0.02      1518\n",
            "           5       0.00      0.00      0.00       402\n",
            "           6       0.47      0.12      0.19       646\n",
            "           7       0.31      0.11      0.16       978\n",
            "           8       0.55      0.56      0.55      3420\n",
            "           9       0.00      0.00      0.00        50\n",
            "          10       0.65      0.68      0.66      5056\n",
            "          11       0.38      0.57      0.46      7824\n",
            "          12       0.00      0.00      0.00       677\n",
            "          13       0.69      0.35      0.47      2790\n",
            "          14       0.60      0.01      0.01       497\n",
            "          15       0.46      0.64      0.53      9652\n",
            "          16       0.00      0.00      0.00       122\n",
            "\n",
            "    accuracy                           0.48     35998\n",
            "   macro avg       0.34      0.18      0.19     35998\n",
            "weighted avg       0.47      0.48      0.43     35998\n",
            "\n"
          ]
        },
        {
          "output_type": "stream",
          "name": "stderr",
          "text": [
            "/usr/local/lib/python3.9/dist-packages/sklearn/metrics/_classification.py:1344: UndefinedMetricWarning: Precision and F-score are ill-defined and being set to 0.0 in labels with no predicted samples. Use `zero_division` parameter to control this behavior.\n",
            "  _warn_prf(average, modifier, msg_start, len(result))\n",
            "/usr/local/lib/python3.9/dist-packages/sklearn/metrics/_classification.py:1344: UndefinedMetricWarning: Precision and F-score are ill-defined and being set to 0.0 in labels with no predicted samples. Use `zero_division` parameter to control this behavior.\n",
            "  _warn_prf(average, modifier, msg_start, len(result))\n",
            "/usr/local/lib/python3.9/dist-packages/sklearn/metrics/_classification.py:1344: UndefinedMetricWarning: Precision and F-score are ill-defined and being set to 0.0 in labels with no predicted samples. Use `zero_division` parameter to control this behavior.\n",
            "  _warn_prf(average, modifier, msg_start, len(result))\n"
          ]
        }
      ]
    },
    {
      "cell_type": "markdown",
      "source": [
        "# **Random Forest Model**"
      ],
      "metadata": {
        "id": "ikHhPMNA3MPr"
      }
    },
    {
      "cell_type": "code",
      "source": [
        "from sklearn.ensemble import RandomForestClassifier\n",
        "rfm = RandomForestClassifier(n_estimators = 50)\n",
        "rfm.fit(X_train, y_train)\n",
        "\n",
        "#Predcting the Model using Random Forest\n",
        "y_pred = rfm.predict(X_test)\n",
        "\n",
        "from sklearn.metrics import classification_report, confusion_matrix, accuracy_score\n",
        "print(confusion_matrix(y_test,y_pred))\n",
        "print(classification_report(y_test, y_pred))"
      ],
      "metadata": {
        "colab": {
          "base_uri": "https://localhost:8080/"
        },
        "id": "JjMD-nQqUE3S",
        "outputId": "0de59bec-8b60-489d-f1d1-c7cf047f9f8e"
      },
      "execution_count": 28,
      "outputs": [
        {
          "output_type": "stream",
          "name": "stdout",
          "text": [
            "[[  27    1    0    0    3    0    3    2   18    0   33   72    1   21\n",
            "     1  135    0]\n",
            " [   0  152    2    0   12    0    0   10  133    0   26  288    1   10\n",
            "     3  629    0]\n",
            " [   0    8  118    0    5    0    0    1   19    0    0  322    0   38\n",
            "     1  123    0]\n",
            " [   0    1    0   78    0    0    1   11   34    0    4   11    0    0\n",
            "     0    8    0]\n",
            " [   0   20    1    0  420    0    0    7   35    0    5  497    0    6\n",
            "     0  527    0]\n",
            " [   0    0    0    0    2   76   14    0   14    0   20  192    0   17\n",
            "     1   66    0]\n",
            " [   0    0    0    3    0    1  233   16  108    0   60   98    0   18\n",
            "     0  109    0]\n",
            " [   0   14    0    9    6    0   15  238  199    0   13  197    0    3\n",
            "     0  284    0]\n",
            " [   0   34    1   26    5    0   34   59 2222    0   10  422    1   85\n",
            "     3  518    0]\n",
            " [   0    1    1    0    0    0    1    0   10    8    0   10    0    3\n",
            "     1   15    0]\n",
            " [   0    0    0    1    4    1   12   29   52    0 3798  116    0   17\n",
            "     0 1026    0]\n",
            " [   1   24    8    4   92    4   47   49  292    0  116 4942    5  436\n",
            "    20 1784    0]\n",
            " [   0    3    1    0    3    0    2    1   35    0    1  398   70   85\n",
            "     5   73    0]\n",
            " [   0    2    1    0    5    0   16    5   60    0   32  599    4 1905\n",
            "    11  150    0]\n",
            " [   0    5    1    0    6    1    8    0   26    0    3  215    1   88\n",
            "    71   72    0]\n",
            " [   0   43    5    4   80    2   36   63  369    0  719 1171    1   74\n",
            "     8 7077    0]\n",
            " [   0    3    0    4    1    0    0    8   37    0    0   19    0    3\n",
            "     0   30   17]]\n",
            "              precision    recall  f1-score   support\n",
            "\n",
            "           0       0.96      0.09      0.16       317\n",
            "           1       0.49      0.12      0.19      1266\n",
            "           2       0.85      0.19      0.30       635\n",
            "           3       0.60      0.53      0.56       148\n",
            "           4       0.65      0.28      0.39      1518\n",
            "           5       0.89      0.19      0.31       402\n",
            "           6       0.55      0.36      0.44       646\n",
            "           7       0.48      0.24      0.32       978\n",
            "           8       0.61      0.65      0.63      3420\n",
            "           9       1.00      0.16      0.28        50\n",
            "          10       0.78      0.75      0.77      5056\n",
            "          11       0.52      0.63      0.57      7824\n",
            "          12       0.83      0.10      0.18       677\n",
            "          13       0.68      0.68      0.68      2790\n",
            "          14       0.57      0.14      0.23       497\n",
            "          15       0.56      0.73      0.64      9652\n",
            "          16       1.00      0.14      0.24       122\n",
            "\n",
            "    accuracy                           0.60     35998\n",
            "   macro avg       0.71      0.35      0.41     35998\n",
            "weighted avg       0.61      0.60      0.57     35998\n",
            "\n"
          ]
        }
      ]
    },
    {
      "cell_type": "markdown",
      "source": [
        "# **XGBoost Model**"
      ],
      "metadata": {
        "id": "tFTdu10b3PU1"
      }
    },
    {
      "cell_type": "code",
      "source": [
        "# Import the necessary libraries\n",
        "import xgboost as xgb\n",
        "from sklearn.metrics import confusion_matrix\n",
        "from sklearn.metrics import accuracy_score\n",
        "\n",
        "# Create the XGBoost classifier\n",
        "xgb_classifier = xgb.XGBClassifier()\n",
        "\n",
        "# Train the classifier\n",
        "xgb_classifier.fit(X_train, y_train)\n",
        "\n",
        "# Make predictions on the testing set\n",
        "y_pred = xgb_classifier.predict(X_test)\n",
        "\n",
        "# Generate the classification report\n",
        "report = classification_report(y_test, y_pred)\n",
        "print('Classification Report:')\n",
        "print(report)\n",
        "\n",
        "# Evaluate the classifier's accuracy\n",
        "accuracy = accuracy_score(y_test, y_pred)\n",
        "print('Accuracy:', accuracy)\n"
      ],
      "metadata": {
        "colab": {
          "base_uri": "https://localhost:8080/"
        },
        "id": "i9znfWiSlG9f",
        "outputId": "79e9f8f3-a777-4542-b8c3-0362589e28db"
      },
      "execution_count": 29,
      "outputs": [
        {
          "output_type": "stream",
          "name": "stdout",
          "text": [
            "Classification Report:\n",
            "              precision    recall  f1-score   support\n",
            "\n",
            "           0       0.50      0.01      0.01       317\n",
            "           1       0.41      0.10      0.16      1266\n",
            "           2       0.54      0.10      0.16       635\n",
            "           3       0.56      0.44      0.49       148\n",
            "           4       0.49      0.17      0.25      1518\n",
            "           5       0.50      0.11      0.18       402\n",
            "           6       0.50      0.33      0.40       646\n",
            "           7       0.43      0.23      0.30       978\n",
            "           8       0.59      0.63      0.61      3420\n",
            "           9       0.83      0.10      0.18        50\n",
            "          10       0.75      0.69      0.72      5056\n",
            "          11       0.47      0.56      0.51      7824\n",
            "          12       0.32      0.04      0.08       677\n",
            "          13       0.62      0.63      0.62      2790\n",
            "          14       0.43      0.21      0.28       497\n",
            "          15       0.52      0.70      0.60      9652\n",
            "          16       0.67      0.07      0.12       122\n",
            "\n",
            "    accuracy                           0.55     35998\n",
            "   macro avg       0.54      0.30      0.33     35998\n",
            "weighted avg       0.54      0.55      0.52     35998\n",
            "\n",
            "Accuracy: 0.5463359075504195\n"
          ]
        }
      ]
    },
    {
      "cell_type": "markdown",
      "source": [
        "# **Naive Bayes Model**"
      ],
      "metadata": {
        "id": "xoZIV_Kk3So0"
      }
    },
    {
      "cell_type": "code",
      "source": [
        "from sklearn.naive_bayes import GaussianNB\n",
        "from sklearn.metrics import confusion_matrix\n",
        "from sklearn.metrics import accuracy_score\n",
        "\n",
        "# Create the Naive Bayes classifier\n",
        "nb_classifier = GaussianNB()\n",
        "# Train the classifier\n",
        "nb_classifier.fit(X_train, y_train)\n",
        "# Make predictions on the testing set\n",
        "y_pred = nb_classifier.predict(X_test)\n",
        "# Generate the classification report\n",
        "report = classification_report(y_test, y_pred)\n",
        "print('Classification Report:')\n",
        "print(report)\n",
        "# Evaluate the classifier's accuracy\n",
        "accuracy = accuracy_score(y_test, y_pred)\n",
        "print('Accuracy:', accuracy)"
      ],
      "metadata": {
        "colab": {
          "base_uri": "https://localhost:8080/"
        },
        "id": "JVbbbbW2ljBa",
        "outputId": "6f4109bd-7406-4327-d035-84706dbf666b"
      },
      "execution_count": 30,
      "outputs": [
        {
          "output_type": "stream",
          "name": "stdout",
          "text": [
            "Classification Report:\n",
            "              precision    recall  f1-score   support\n",
            "\n",
            "           0       0.00      0.00      0.00       317\n",
            "           1       0.15      0.03      0.04      1266\n",
            "           2       0.06      0.00      0.00       635\n",
            "           3       0.16      0.74      0.26       148\n",
            "           4       0.13      0.68      0.22      1518\n",
            "           5       0.17      0.06      0.09       402\n",
            "           6       0.38      0.15      0.22       646\n",
            "           7       0.13      0.18      0.15       978\n",
            "           8       0.51      0.49      0.50      3420\n",
            "           9       0.00      0.00      0.00        50\n",
            "          10       0.54      0.78      0.64      5056\n",
            "          11       0.38      0.23      0.29      7824\n",
            "          12       0.18      0.02      0.03       677\n",
            "          13       0.53      0.57      0.55      2790\n",
            "          14       0.13      0.07      0.09       497\n",
            "          15       0.45      0.31      0.37      9652\n",
            "          16       0.00      0.00      0.00       122\n",
            "\n",
            "    accuracy                           0.37     35998\n",
            "   macro avg       0.23      0.25      0.20     35998\n",
            "weighted avg       0.40      0.37      0.36     35998\n",
            "\n",
            "Accuracy: 0.37490971720651145\n"
          ]
        },
        {
          "output_type": "stream",
          "name": "stderr",
          "text": [
            "/usr/local/lib/python3.9/dist-packages/sklearn/metrics/_classification.py:1344: UndefinedMetricWarning: Precision and F-score are ill-defined and being set to 0.0 in labels with no predicted samples. Use `zero_division` parameter to control this behavior.\n",
            "  _warn_prf(average, modifier, msg_start, len(result))\n",
            "/usr/local/lib/python3.9/dist-packages/sklearn/metrics/_classification.py:1344: UndefinedMetricWarning: Precision and F-score are ill-defined and being set to 0.0 in labels with no predicted samples. Use `zero_division` parameter to control this behavior.\n",
            "  _warn_prf(average, modifier, msg_start, len(result))\n",
            "/usr/local/lib/python3.9/dist-packages/sklearn/metrics/_classification.py:1344: UndefinedMetricWarning: Precision and F-score are ill-defined and being set to 0.0 in labels with no predicted samples. Use `zero_division` parameter to control this behavior.\n",
            "  _warn_prf(average, modifier, msg_start, len(result))\n"
          ]
        }
      ]
    },
    {
      "cell_type": "markdown",
      "source": [
        "# **Saving .pkl Files**"
      ],
      "metadata": {
        "id": "dz2UXCQs3X2G"
      }
    },
    {
      "cell_type": "code",
      "source": [
        "with open('/content/drive/MyDrive/Spotify_BDP/rfmodel2.pkl', 'wb') as f:\n",
        "    pickle.dump(rfm, f)"
      ],
      "metadata": {
        "id": "rJAbTMq3ijDn"
      },
      "execution_count": 25,
      "outputs": []
    },
    {
      "cell_type": "code",
      "source": [
        "with open('/content/drive/MyDrive/Spotify_BDP/label_map2.pkl', 'wb') as f:\n",
        "  pickle.dump(label_map, f)"
      ],
      "metadata": {
        "id": "7B2nl87By_Rv"
      },
      "execution_count": 26,
      "outputs": []
    }
  ]
}